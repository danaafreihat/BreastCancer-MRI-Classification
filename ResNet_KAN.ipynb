{
  "nbformat": 4,
  "nbformat_minor": 0,
  "metadata": {
    "colab": {
      "provenance": [],
      "machine_shape": "hm",
      "gpuType": "A100"
    },
    "kernelspec": {
      "name": "python3",
      "display_name": "Python 3"
    },
    "language_info": {
      "name": "python"
    },
    "accelerator": "GPU"
  },
  "cells": [
    {
      "cell_type": "code",
      "execution_count": 4,
      "metadata": {
        "colab": {
          "base_uri": "https://localhost:8080/"
        },
        "id": "HpcvPinEOjNx",
        "outputId": "eaa249c2-753d-4dc6-9037-a89940bba68e"
      },
      "outputs": [
        {
          "output_type": "stream",
          "name": "stdout",
          "text": [
            "\u001b[?25l   \u001b[90m━━━━━━━━━━━━━━━━━━━━━━━━━━━━━━━━━━━━━━━━\u001b[0m \u001b[32m0.0/78.1 kB\u001b[0m \u001b[31m?\u001b[0m eta \u001b[36m-:--:--\u001b[0m\r\u001b[2K   \u001b[90m━━━━━━━━━━━━━━━━━━━━━━━━━━━━━━━━━━━━━━━━\u001b[0m \u001b[32m78.1/78.1 kB\u001b[0m \u001b[31m2.1 MB/s\u001b[0m eta \u001b[36m0:00:00\u001b[0m\n",
            "\u001b[?25h"
          ]
        }
      ],
      "source": [
        "!pip install albumentations --quiet\n",
        "!pip install -q pykan\n",
        "from kan import KAN\n",
        "import os\n",
        "import cv2\n",
        "import numpy as np\n",
        "from glob import glob\n",
        "from tqdm import tqdm\n",
        "import matplotlib.pyplot as plt\n",
        "\n",
        "import torch\n",
        "from torchvision import transforms, models\n",
        "from torchvision.datasets import ImageFolder\n",
        "from torch.utils.data import DataLoader, random_split\n"
      ]
    },
    {
      "cell_type": "code",
      "source": [
        "device = torch.device(\"cuda\" if torch.cuda.is_available() else \"cpu\")\n",
        "print(\"Device:\", device)"
      ],
      "metadata": {
        "colab": {
          "base_uri": "https://localhost:8080/"
        },
        "id": "bT1Zkp88PYNG",
        "outputId": "7011fb54-f594-49d0-ab1c-a6513f8174f2"
      },
      "execution_count": 5,
      "outputs": [
        {
          "output_type": "stream",
          "name": "stdout",
          "text": [
            "Device: cuda\n"
          ]
        }
      ]
    },
    {
      "cell_type": "code",
      "source": [
        "zip_mappings = {\n",
        "    \"zipped-train-healthy.zip\": \"train/healthy\",\n",
        "    \"zipped-train-sick.zip\": \"train/sick\",\n",
        "    \"test-healthy.zip\": \"test/healthy\",\n",
        "    \"test-sick.zip\": \"test/sick\"\n",
        "}"
      ],
      "metadata": {
        "id": "R1LAXAaxPdUe"
      },
      "execution_count": 6,
      "outputs": []
    },
    {
      "cell_type": "code",
      "source": [
        "import zipfile\n",
        "import os\n",
        "\n",
        "for zip_file, target_dir in zip_mappings.items():\n",
        "    zip_path = f\"/content/{zip_file}\"\n",
        "    if zip_file.endswith('.zip') and os.path.exists(zip_path):\n",
        "      os.makedirs(target_dir, exist_ok=True)\n",
        "      with zipfile.ZipFile(zip_path, 'r') as zip_ref:\n",
        "          zip_ref.extractall(target_dir)\n",
        "\n",
        "\n",
        "print(\"✅ All datasets unzipped and organized.\")"
      ],
      "metadata": {
        "colab": {
          "base_uri": "https://localhost:8080/"
        },
        "id": "rEajcThRPh-M",
        "outputId": "9493d39e-b715-4c9b-8165-5f47644a8417"
      },
      "execution_count": 7,
      "outputs": [
        {
          "output_type": "stream",
          "name": "stdout",
          "text": [
            "✅ All datasets unzipped and organized.\n"
          ]
        }
      ]
    },
    {
      "cell_type": "code",
      "source": [
        "import os\n",
        "import shutil\n",
        "import random\n",
        "from tqdm import tqdm\n",
        "\n",
        "def split_train_folder(src_dir, train_dir, val_dir, split_ratio=0.8, seed=42):\n",
        "    random.seed(seed)\n",
        "\n",
        "    # Create new folders if not exist\n",
        "    for folder in [train_dir, val_dir]:\n",
        "        for cls in os.listdir(src_dir):\n",
        "            os.makedirs(os.path.join(folder, cls), exist_ok=True)\n",
        "\n",
        "    # Go through each class\n",
        "    for cls in tqdm(os.listdir(src_dir), desc=\"Splitting data\"):\n",
        "        class_path = os.path.join(src_dir, cls)\n",
        "        if not os.path.isdir(class_path):\n",
        "            continue\n",
        "\n",
        "        images = os.listdir(class_path)\n",
        "        random.shuffle(images)\n",
        "\n",
        "        split_idx = int(len(images) * split_ratio)\n",
        "        train_imgs = images[:split_idx]\n",
        "        val_imgs = images[split_idx:]\n",
        "\n",
        "        # Copy training images\n",
        "        for img in train_imgs:\n",
        "            shutil.copy(os.path.join(class_path, img), os.path.join(train_dir, cls, img))\n",
        "\n",
        "        # Copy validation images\n",
        "        for img in val_imgs:\n",
        "            shutil.copy(os.path.join(class_path, img), os.path.join(val_dir, cls, img))\n",
        "\n",
        "# Example usage:\n",
        "src = \"train\"              # Your original training folder\n",
        "train_out = \"train_train\"  # New training set folder\n",
        "val_out = \"train_val\"      # New validation set folder\n",
        "\n",
        "split_train_folder(src, train_out, val_out)"
      ],
      "metadata": {
        "colab": {
          "base_uri": "https://localhost:8080/"
        },
        "id": "G5eC_pVuPltm",
        "outputId": "f7def4b5-2246-4c39-cfc2-db6d5921547c"
      },
      "execution_count": 8,
      "outputs": [
        {
          "output_type": "stream",
          "name": "stderr",
          "text": [
            "Splitting data: 100%|██████████| 2/2 [00:00<00:00,  8.02it/s]\n"
          ]
        }
      ]
    },
    {
      "cell_type": "code",
      "source": [
        "import albumentations as A\n",
        "import cv2\n",
        "from glob import glob\n",
        "import os\n",
        "from tqdm import tqdm\n",
        "\n",
        "# Adjusted source and output paths\n",
        "original_train = \"train_train\"\n",
        "augmented_train = \"train_train_augmented\"\n",
        "\n",
        "os.makedirs(f\"{augmented_train}/healthy\", exist_ok=True)\n",
        "os.makedirs(f\"{augmented_train}/sick\", exist_ok=True)\n",
        "\n",
        "# Define augmentation pipeline\n",
        "augment = A.Compose([\n",
        "    A.HorizontalFlip(p=0.5),\n",
        "    A.RandomBrightnessContrast(p=0.5),\n",
        "    A.Rotate(limit=20, p=0.5),\n",
        "    A.GaussianBlur(blur_limit=(3, 7), p=0.3),\n",
        "    A.Resize(224, 224, p=1.0)\n",
        "])\n",
        "\n",
        "# Augment images in a given class folder\n",
        "def augment_class_images(class_name):\n",
        "    input_paths = glob(f\"{original_train}/{class_name}/*.jpg\")\n",
        "    for img_path in tqdm(input_paths, desc=f\"Augmenting {class_name}\"):\n",
        "        img = cv2.imread(img_path)\n",
        "        img = cv2.cvtColor(img, cv2.COLOR_BGR2RGB)\n",
        "        base_name = os.path.basename(img_path).split('.')[0]\n",
        "        for i in range(3):  # Generate 3 augmented versions\n",
        "            aug_img = augment(image=img)['image']\n",
        "            aug_img = cv2.cvtColor(aug_img, cv2.COLOR_RGB2BGR)\n",
        "            cv2.imwrite(f\"{augmented_train}/{class_name}/{base_name}_aug{i}.jpg\", aug_img)\n",
        "\n",
        "# Apply to both classes\n",
        "augment_class_images(\"healthy\")\n",
        "augment_class_images(\"sick\")\n",
        "\n",
        "print(\"✅ Data augmentation done. Augmented images saved to /train_train_augmented/\")"
      ],
      "metadata": {
        "colab": {
          "base_uri": "https://localhost:8080/"
        },
        "id": "XddRPFghPpPD",
        "outputId": "a3630539-c30e-42cf-87c8-4d1c5b2e2eab"
      },
      "execution_count": 9,
      "outputs": [
        {
          "output_type": "stream",
          "name": "stderr",
          "text": [
            "Augmenting healthy: 100%|██████████| 560/560 [00:02<00:00, 225.79it/s]\n",
            "Augmenting sick: 100%|██████████| 560/560 [00:02<00:00, 212.89it/s]"
          ]
        },
        {
          "output_type": "stream",
          "name": "stdout",
          "text": [
            "✅ Data augmentation done. Augmented images saved to /train_train_augmented/\n"
          ]
        },
        {
          "output_type": "stream",
          "name": "stderr",
          "text": [
            "\n"
          ]
        }
      ]
    },
    {
      "cell_type": "code",
      "source": [
        "# Define paths\n",
        "original_train = \"train_train\"\n",
        "augmented_train = \"train_train_augmented\"\n",
        "merged_train = \"train_merged\"\n",
        "\n",
        "# Create merged folder structure\n",
        "for cls in [\"healthy\", \"sick\"]:\n",
        "    os.makedirs(os.path.join(merged_train, cls), exist_ok=True)\n",
        "\n",
        "# Helper function to copy all images\n",
        "def copy_images(src_dir, dest_dir):\n",
        "    for cls in [\"healthy\", \"sick\"]:\n",
        "        src_class = os.path.join(src_dir, cls)\n",
        "        dest_class = os.path.join(dest_dir, cls)\n",
        "        for file in tqdm(os.listdir(src_class), desc=f\"Copying {cls} from {src_dir}\"):\n",
        "            src_path = os.path.join(src_class, file)\n",
        "            dest_path = os.path.join(dest_class, file)\n",
        "            shutil.copy(src_path, dest_path)\n",
        "\n",
        "# Merge original + augmented\n",
        "copy_images(original_train, merged_train)\n",
        "copy_images(augmented_train, merged_train)\n",
        "\n",
        "print(\"✅ Merging complete. Final training data is in /train_merged/\")"
      ],
      "metadata": {
        "colab": {
          "base_uri": "https://localhost:8080/"
        },
        "id": "Ofn9XN5vPwwz",
        "outputId": "fdeb1b89-4309-4de3-f145-b7c8dba6fb59"
      },
      "execution_count": 10,
      "outputs": [
        {
          "output_type": "stream",
          "name": "stderr",
          "text": [
            "Copying healthy from train_train: 100%|██████████| 560/560 [00:00<00:00, 5552.87it/s]\n",
            "Copying sick from train_train: 100%|██████████| 560/560 [00:00<00:00, 4840.46it/s]\n",
            "Copying healthy from train_train_augmented: 100%|██████████| 1680/1680 [00:00<00:00, 12178.81it/s]\n",
            "Copying sick from train_train_augmented: 100%|██████████| 1680/1680 [00:00<00:00, 12187.94it/s]"
          ]
        },
        {
          "output_type": "stream",
          "name": "stdout",
          "text": [
            "✅ Merging complete. Final training data is in /train_merged/\n"
          ]
        },
        {
          "output_type": "stream",
          "name": "stderr",
          "text": [
            "\n"
          ]
        }
      ]
    },
    {
      "cell_type": "code",
      "source": [
        "import os\n",
        "\n",
        "# Paths to each class\n",
        "healthy_dir = \"/content/train_merged/healthy\"\n",
        "sick_dir = \"/content/train_merged/sick\"\n",
        "\n",
        "# Count files\n",
        "num_healthy = len(os.listdir(healthy_dir))\n",
        "num_sick = len(os.listdir(sick_dir))\n",
        "\n",
        "print(f\"🟢 Total healthy images: {num_healthy}\")\n",
        "print(f\"🔴 Total sick images: {num_sick}\")\n",
        "print(f\"📊 Total training images: {num_healthy + num_sick}\")"
      ],
      "metadata": {
        "colab": {
          "base_uri": "https://localhost:8080/"
        },
        "id": "DTu9jkX0P65m",
        "outputId": "d536f08c-c02a-430f-e328-f2a56b8f45dd"
      },
      "execution_count": 11,
      "outputs": [
        {
          "output_type": "stream",
          "name": "stdout",
          "text": [
            "🟢 Total healthy images: 2240\n",
            "🔴 Total sick images: 2240\n",
            "📊 Total training images: 4480\n"
          ]
        }
      ]
    },
    {
      "cell_type": "code",
      "source": [
        "# Compute mean/std of the dataset\n",
        "transform_basic = transforms.Compose([\n",
        "    transforms.Resize((224, 224)),\n",
        "    transforms.Grayscale(num_output_channels=3),\n",
        "    transforms.ToTensor()\n",
        "])\n",
        "\n",
        "dataset = ImageFolder(augmented_train, transform=transform_basic)\n",
        "loader = DataLoader(dataset, batch_size=64, shuffle=False)\n",
        "\n",
        "def get_mean_std(loader):\n",
        "    mean = 0.\n",
        "    std = 0.\n",
        "    total = 0\n",
        "    for images, _ in loader:\n",
        "        batch_samples = images.size(0)\n",
        "        images = images.view(batch_samples, images.size(1), -1)\n",
        "        mean += images.mean(2).sum(0)\n",
        "        std += images.std(2).sum(0)\n",
        "        total += batch_samples\n",
        "\n",
        "    return mean / total, std / total\n",
        "\n",
        "mean, std = get_mean_std(loader)\n",
        "print(\"✅ Dataset Mean:\", mean)\n",
        "print(\"✅ Dataset Std: \", std)\n"
      ],
      "metadata": {
        "colab": {
          "base_uri": "https://localhost:8080/"
        },
        "id": "VnaV_2POQFIo",
        "outputId": "11350259-26d2-4b0c-aa34-6c07b9167530"
      },
      "execution_count": 12,
      "outputs": [
        {
          "output_type": "stream",
          "name": "stdout",
          "text": [
            "✅ Dataset Mean: tensor([0.3388, 0.3388, 0.3388])\n",
            "✅ Dataset Std:  tensor([0.3066, 0.3066, 0.3066])\n"
          ]
        }
      ]
    },
    {
      "cell_type": "code",
      "source": [
        "common_transform = transforms.Compose([\n",
        "    transforms.Resize((224, 224)),\n",
        "    transforms.Grayscale(num_output_channels=3),\n",
        "    transforms.ToTensor(),\n",
        "    transforms.Normalize(mean=mean, std=std)\n",
        "])\n"
      ],
      "metadata": {
        "id": "ppUoaPqLQcu6"
      },
      "execution_count": 13,
      "outputs": []
    },
    {
      "cell_type": "code",
      "source": [
        "train_dataset = ImageFolder(\"train_merged\", transform=common_transform)\n",
        "val_dataset   = ImageFolder(\"train_val\", transform=common_transform)\n",
        "test_dataset  = ImageFolder(\"test\", transform=common_transform)\n"
      ],
      "metadata": {
        "id": "m0LXT1cjSuOb"
      },
      "execution_count": 14,
      "outputs": []
    },
    {
      "cell_type": "code",
      "source": [
        "train_loader = DataLoader(train_dataset, batch_size=16, shuffle=True)\n",
        "val_loader   = DataLoader(val_dataset, batch_size=16, shuffle=False)\n",
        "test_loader  = DataLoader(test_dataset, batch_size=16, shuffle=False)\n"
      ],
      "metadata": {
        "id": "i7eIM1EAS262"
      },
      "execution_count": 15,
      "outputs": []
    },
    {
      "cell_type": "code",
      "source": [
        "# Get sample\n",
        "img, label = next(iter(train_loader))\n",
        "img_vis = img[0].clone()\n",
        "\n",
        "# Un-normalize\n",
        "img_vis = img_vis * torch.tensor(std).view(3,1,1) + torch.tensor(mean).view(3,1,1)\n",
        "img_vis = img_vis.permute(1, 2, 0).numpy()\n",
        "\n",
        "# Plot\n",
        "plt.imshow(img_vis)\n",
        "plt.title(f\"Label: {label[0].item()}\")\n",
        "plt.axis(\"off\")\n",
        "plt.show()\n",
        "\n",
        "# Mean & Std check\n",
        "print(\"Mean after normalization:\", img[0].mean(dim=(1,2)))\n",
        "print(\"Std after normalization:\", img[0].std(dim=(1,2)))\n"
      ],
      "metadata": {
        "colab": {
          "base_uri": "https://localhost:8080/",
          "height": 517
        },
        "id": "lcxaMaP-TF28",
        "outputId": "5183a885-47df-4846-c28f-623a2c200071"
      },
      "execution_count": 16,
      "outputs": [
        {
          "output_type": "stream",
          "name": "stderr",
          "text": [
            "/tmp/ipython-input-1632713272.py:6: UserWarning: To copy construct from a tensor, it is recommended to use sourceTensor.clone().detach() or sourceTensor.clone().detach().requires_grad_(True), rather than torch.tensor(sourceTensor).\n",
            "  img_vis = img_vis * torch.tensor(std).view(3,1,1) + torch.tensor(mean).view(3,1,1)\n"
          ]
        },
        {
          "output_type": "display_data",
          "data": {
            "text/plain": [
              "<Figure size 640x480 with 1 Axes>"
            ],
            "image/png": "[encoded data removed]"
          },
          "metadata": {}
        },
        {
          "output_type": "stream",
          "name": "stdout",
          "text": [
            "Mean after normalization: tensor([0.0913, 0.0913, 0.0913])\n",
            "Std after normalization: tensor([1.0813, 1.0813, 1.0813])\n"
          ]
        }
      ]
    },
    {
      "cell_type": "code",
      "source": [
        "resnet = models.resnet50(weights='ResNet50_Weights.IMAGENET1K_V2')\n",
        "resnet.fc = torch.nn.Identity()  # remove classification head\n",
        "resnet.eval().cuda()  # if available\n",
        "\n",
        "# Example batch\n",
        "images, labels = next(iter(train_loader))\n",
        "images = images.cuda()\n",
        "with torch.no_grad():\n",
        "    features = resnet(images)\n",
        "\n",
        "print(\"ResNet feature shape:\", features.shape)  # should be [batch_size, 2048]\n",
        "\n",
        "# Plot feature vector of 1st image\n",
        "plt.figure(figsize=(10, 4))\n",
        "plt.plot(features[0].cpu().numpy())\n",
        "plt.title(\"ResNet-50 v2 Feature Vector\")\n",
        "plt.xlabel(\"Feature Index\")\n",
        "plt.ylabel(\"Value\")\n",
        "plt.show()\n"
      ],
      "metadata": {
        "colab": {
          "base_uri": "https://localhost:8080/",
          "height": 427
        },
        "id": "VBjR6maXTJk7",
        "outputId": "962e48d5-e5a6-46fb-9c46-79b69366bfb3"
      },
      "execution_count": 17,
      "outputs": [
        {
          "output_type": "stream",
          "name": "stdout",
          "text": [
            "ResNet feature shape: torch.Size([16, 2048])\n"
          ]
        },
        {
          "output_type": "display_data",
          "data": {
            "text/plain": [
              "<Figure size 1000x400 with 1 Axes>"
            ],
            "image/png": "[encoded data removed]"
          },
          "metadata": {}
        }
      ]
    },
    {
      "cell_type": "code",
      "source": [
        "import torchvision.models as models\n",
        "import torch.nn as nn\n",
        "import torch\n",
        "\n",
        "# Load latest ResNet-50 v2 weights\n",
        "resnet50 = models.resnet50(weights=models.ResNet50_Weights.IMAGENET1K_V2)\n",
        "resnet50.fc = nn.Identity()  # Remove final classification layer\n",
        "resnet50 = resnet50.cuda()\n",
        "resnet50.eval()\n"
      ],
      "metadata": {
        "colab": {
          "base_uri": "https://localhost:8080/"
        },
        "id": "aKJLCxloqCtB",
        "outputId": "c1f62709-745c-4014-d20c-47044e23d243"
      },
      "execution_count": 18,
      "outputs": [
        {
          "output_type": "execute_result",
          "data": {
            "text/plain": [
              "ResNet(\n",
              "  (conv1): Conv2d(3, 64, kernel_size=(7, 7), stride=(2, 2), padding=(3, 3), bias=False)\n",
              "  (bn1): BatchNorm2d(64, eps=1e-05, momentum=0.1, affine=True, track_running_stats=True)\n",
              "  (relu): ReLU(inplace=True)\n",
              "  (maxpool): MaxPool2d(kernel_size=3, stride=2, padding=1, dilation=1, ceil_mode=False)\n",
              "  (layer1): Sequential(\n",
              "    (0): Bottleneck(\n",
              "      (conv1): Conv2d(64, 64, kernel_size=(1, 1), stride=(1, 1), bias=False)\n",
              "      (bn1): BatchNorm2d(64, eps=1e-05, momentum=0.1, affine=True, track_running_stats=True)\n",
              "      (conv2): Conv2d(64, 64, kernel_size=(3, 3), stride=(1, 1), padding=(1, 1), bias=False)\n",
              "      (bn2): BatchNorm2d(64, eps=1e-05, momentum=0.1, affine=True, track_running_stats=True)\n",
              "      (conv3): Conv2d(64, 256, kernel_size=(1, 1), stride=(1, 1), bias=False)\n",
              "      (bn3): BatchNorm2d(256, eps=1e-05, momentum=0.1, affine=True, track_running_stats=True)\n",
              "      (relu): ReLU(inplace=True)\n",
              "      (downsample): Sequential(\n",
              "        (0): Conv2d(64, 256, kernel_size=(1, 1), stride=(1, 1), bias=False)\n",
              "        (1): BatchNorm2d(256, eps=1e-05, momentum=0.1, affine=True, track_running_stats=True)\n",
              "      )\n",
              "    )\n",
              "    (1): Bottleneck(\n",
              "      (conv1): Conv2d(256, 64, kernel_size=(1, 1), stride=(1, 1), bias=False)\n",
              "      (bn1): BatchNorm2d(64, eps=1e-05, momentum=0.1, affine=True, track_running_stats=True)\n",
              "      (conv2): Conv2d(64, 64, kernel_size=(3, 3), stride=(1, 1), padding=(1, 1), bias=False)\n",
              "      (bn2): BatchNorm2d(64, eps=1e-05, momentum=0.1, affine=True, track_running_stats=True)\n",
              "      (conv3): Conv2d(64, 256, kernel_size=(1, 1), stride=(1, 1), bias=False)\n",
              "      (bn3): BatchNorm2d(256, eps=1e-05, momentum=0.1, affine=True, track_running_stats=True)\n",
              "      (relu): ReLU(inplace=True)\n",
              "    )\n",
              "    (2): Bottleneck(\n",
              "      (conv1): Conv2d(256, 64, kernel_size=(1, 1), stride=(1, 1), bias=False)\n",
              "      (bn1): BatchNorm2d(64, eps=1e-05, momentum=0.1, affine=True, track_running_stats=True)\n",
              "      (conv2): Conv2d(64, 64, kernel_size=(3, 3), stride=(1, 1), padding=(1, 1), bias=False)\n",
              "      (bn2): BatchNorm2d(64, eps=1e-05, momentum=0.1, affine=True, track_running_stats=True)\n",
              "      (conv3): Conv2d(64, 256, kernel_size=(1, 1), stride=(1, 1), bias=False)\n",
              "      (bn3): BatchNorm2d(256, eps=1e-05, momentum=0.1, affine=True, track_running_stats=True)\n",
              "      (relu): ReLU(inplace=True)\n",
              "    )\n",
              "  )\n",
              "  (layer2): Sequential(\n",
              "    (0): Bottleneck(\n",
              "      (conv1): Conv2d(256, 128, kernel_size=(1, 1), stride=(1, 1), bias=False)\n",
              "      (bn1): BatchNorm2d(128, eps=1e-05, momentum=0.1, affine=True, track_running_stats=True)\n",
              "      (conv2): Conv2d(128, 128, kernel_size=(3, 3), stride=(2, 2), padding=(1, 1), bias=False)\n",
              "      (bn2): BatchNorm2d(128, eps=1e-05, momentum=0.1, affine=True, track_running_stats=True)\n",
              "      (conv3): Conv2d(128, 512, kernel_size=(1, 1), stride=(1, 1), bias=False)\n",
              "      (bn3): BatchNorm2d(512, eps=1e-05, momentum=0.1, affine=True, track_running_stats=True)\n",
              "      (relu): ReLU(inplace=True)\n",
              "      (downsample): Sequential(\n",
              "        (0): Conv2d(256, 512, kernel_size=(1, 1), stride=(2, 2), bias=False)\n",
              "        (1): BatchNorm2d(512, eps=1e-05, momentum=0.1, affine=True, track_running_stats=True)\n",
              "      )\n",
              "    )\n",
              "    (1): Bottleneck(\n",
              "      (conv1): Conv2d(512, 128, kernel_size=(1, 1), stride=(1, 1), bias=False)\n",
              "      (bn1): BatchNorm2d(128, eps=1e-05, momentum=0.1, affine=True, track_running_stats=True)\n",
              "      (conv2): Conv2d(128, 128, kernel_size=(3, 3), stride=(1, 1), padding=(1, 1), bias=False)\n",
              "      (bn2): BatchNorm2d(128, eps=1e-05, momentum=0.1, affine=True, track_running_stats=True)\n",
              "      (conv3): Conv2d(128, 512, kernel_size=(1, 1), stride=(1, 1), bias=False)\n",
              "      (bn3): BatchNorm2d(512, eps=1e-05, momentum=0.1, affine=True, track_running_stats=True)\n",
              "      (relu): ReLU(inplace=True)\n",
              "    )\n",
              "    (2): Bottleneck(\n",
              "      (conv1): Conv2d(512, 128, kernel_size=(1, 1), stride=(1, 1), bias=False)\n",
              "      (bn1): BatchNorm2d(128, eps=1e-05, momentum=0.1, affine=True, track_running_stats=True)\n",
              "      (conv2): Conv2d(128, 128, kernel_size=(3, 3), stride=(1, 1), padding=(1, 1), bias=False)\n",
              "      (bn2): BatchNorm2d(128, eps=1e-05, momentum=0.1, affine=True, track_running_stats=True)\n",
              "      (conv3): Conv2d(128, 512, kernel_size=(1, 1), stride=(1, 1), bias=False)\n",
              "      (bn3): BatchNorm2d(512, eps=1e-05, momentum=0.1, affine=True, track_running_stats=True)\n",
              "      (relu): ReLU(inplace=True)\n",
              "    )\n",
              "    (3): Bottleneck(\n",
              "      (conv1): Conv2d(512, 128, kernel_size=(1, 1), stride=(1, 1), bias=False)\n",
              "      (bn1): BatchNorm2d(128, eps=1e-05, momentum=0.1, affine=True, track_running_stats=True)\n",
              "      (conv2): Conv2d(128, 128, kernel_size=(3, 3), stride=(1, 1), padding=(1, 1), bias=False)\n",
              "      (bn2): BatchNorm2d(128, eps=1e-05, momentum=0.1, affine=True, track_running_stats=True)\n",
              "      (conv3): Conv2d(128, 512, kernel_size=(1, 1), stride=(1, 1), bias=False)\n",
              "      (bn3): BatchNorm2d(512, eps=1e-05, momentum=0.1, affine=True, track_running_stats=True)\n",
              "      (relu): ReLU(inplace=True)\n",
              "    )\n",
              "  )\n",
              "  (layer3): Sequential(\n",
              "    (0): Bottleneck(\n",
              "      (conv1): Conv2d(512, 256, kernel_size=(1, 1), stride=(1, 1), bias=False)\n",
              "      (bn1): BatchNorm2d(256, eps=1e-05, momentum=0.1, affine=True, track_running_stats=True)\n",
              "      (conv2): Conv2d(256, 256, kernel_size=(3, 3), stride=(2, 2), padding=(1, 1), bias=False)\n",
              "      (bn2): BatchNorm2d(256, eps=1e-05, momentum=0.1, affine=True, track_running_stats=True)\n",
              "      (conv3): Conv2d(256, 1024, kernel_size=(1, 1), stride=(1, 1), bias=False)\n",
              "      (bn3): BatchNorm2d(1024, eps=1e-05, momentum=0.1, affine=True, track_running_stats=True)\n",
              "      (relu): ReLU(inplace=True)\n",
              "      (downsample): Sequential(\n",
              "        (0): Conv2d(512, 1024, kernel_size=(1, 1), stride=(2, 2), bias=False)\n",
              "        (1): BatchNorm2d(1024, eps=1e-05, momentum=0.1, affine=True, track_running_stats=True)\n",
              "      )\n",
              "    )\n",
              "    (1): Bottleneck(\n",
              "      (conv1): Conv2d(1024, 256, kernel_size=(1, 1), stride=(1, 1), bias=False)\n",
              "      (bn1): BatchNorm2d(256, eps=1e-05, momentum=0.1, affine=True, track_running_stats=True)\n",
              "      (conv2): Conv2d(256, 256, kernel_size=(3, 3), stride=(1, 1), padding=(1, 1), bias=False)\n",
              "      (bn2): BatchNorm2d(256, eps=1e-05, momentum=0.1, affine=True, track_running_stats=True)\n",
              "      (conv3): Conv2d(256, 1024, kernel_size=(1, 1), stride=(1, 1), bias=False)\n",
              "      (bn3): BatchNorm2d(1024, eps=1e-05, momentum=0.1, affine=True, track_running_stats=True)\n",
              "      (relu): ReLU(inplace=True)\n",
              "    )\n",
              "    (2): Bottleneck(\n",
              "      (conv1): Conv2d(1024, 256, kernel_size=(1, 1), stride=(1, 1), bias=False)\n",
              "      (bn1): BatchNorm2d(256, eps=1e-05, momentum=0.1, affine=True, track_running_stats=True)\n",
              "      (conv2): Conv2d(256, 256, kernel_size=(3, 3), stride=(1, 1), padding=(1, 1), bias=False)\n",
              "      (bn2): BatchNorm2d(256, eps=1e-05, momentum=0.1, affine=True, track_running_stats=True)\n",
              "      (conv3): Conv2d(256, 1024, kernel_size=(1, 1), stride=(1, 1), bias=False)\n",
              "      (bn3): BatchNorm2d(1024, eps=1e-05, momentum=0.1, affine=True, track_running_stats=True)\n",
              "      (relu): ReLU(inplace=True)\n",
              "    )\n",
              "    (3): Bottleneck(\n",
              "      (conv1): Conv2d(1024, 256, kernel_size=(1, 1), stride=(1, 1), bias=False)\n",
              "      (bn1): BatchNorm2d(256, eps=1e-05, momentum=0.1, affine=True, track_running_stats=True)\n",
              "      (conv2): Conv2d(256, 256, kernel_size=(3, 3), stride=(1, 1), padding=(1, 1), bias=False)\n",
              "      (bn2): BatchNorm2d(256, eps=1e-05, momentum=0.1, affine=True, track_running_stats=True)\n",
              "      (conv3): Conv2d(256, 1024, kernel_size=(1, 1), stride=(1, 1), bias=False)\n",
              "      (bn3): BatchNorm2d(1024, eps=1e-05, momentum=0.1, affine=True, track_running_stats=True)\n",
              "      (relu): ReLU(inplace=True)\n",
              "    )\n",
              "    (4): Bottleneck(\n",
              "      (conv1): Conv2d(1024, 256, kernel_size=(1, 1), stride=(1, 1), bias=False)\n",
              "      (bn1): BatchNorm2d(256, eps=1e-05, momentum=0.1, affine=True, track_running_stats=True)\n",
              "      (conv2): Conv2d(256, 256, kernel_size=(3, 3), stride=(1, 1), padding=(1, 1), bias=False)\n",
              "      (bn2): BatchNorm2d(256, eps=1e-05, momentum=0.1, affine=True, track_running_stats=True)\n",
              "      (conv3): Conv2d(256, 1024, kernel_size=(1, 1), stride=(1, 1), bias=False)\n",
              "      (bn3): BatchNorm2d(1024, eps=1e-05, momentum=0.1, affine=True, track_running_stats=True)\n",
              "      (relu): ReLU(inplace=True)\n",
              "    )\n",
              "    (5): Bottleneck(\n",
              "      (conv1): Conv2d(1024, 256, kernel_size=(1, 1), stride=(1, 1), bias=False)\n",
              "      (bn1): BatchNorm2d(256, eps=1e-05, momentum=0.1, affine=True, track_running_stats=True)\n",
              "      (conv2): Conv2d(256, 256, kernel_size=(3, 3), stride=(1, 1), padding=(1, 1), bias=False)\n",
              "      (bn2): BatchNorm2d(256, eps=1e-05, momentum=0.1, affine=True, track_running_stats=True)\n",
              "      (conv3): Conv2d(256, 1024, kernel_size=(1, 1), stride=(1, 1), bias=False)\n",
              "      (bn3): BatchNorm2d(1024, eps=1e-05, momentum=0.1, affine=True, track_running_stats=True)\n",
              "      (relu): ReLU(inplace=True)\n",
              "    )\n",
              "  )\n",
              "  (layer4): Sequential(\n",
              "    (0): Bottleneck(\n",
              "      (conv1): Conv2d(1024, 512, kernel_size=(1, 1), stride=(1, 1), bias=False)\n",
              "      (bn1): BatchNorm2d(512, eps=1e-05, momentum=0.1, affine=True, track_running_stats=True)\n",
              "      (conv2): Conv2d(512, 512, kernel_size=(3, 3), stride=(2, 2), padding=(1, 1), bias=False)\n",
              "      (bn2): BatchNorm2d(512, eps=1e-05, momentum=0.1, affine=True, track_running_stats=True)\n",
              "      (conv3): Conv2d(512, 2048, kernel_size=(1, 1), stride=(1, 1), bias=False)\n",
              "      (bn3): BatchNorm2d(2048, eps=1e-05, momentum=0.1, affine=True, track_running_stats=True)\n",
              "      (relu): ReLU(inplace=True)\n",
              "      (downsample): Sequential(\n",
              "        (0): Conv2d(1024, 2048, kernel_size=(1, 1), stride=(2, 2), bias=False)\n",
              "        (1): BatchNorm2d(2048, eps=1e-05, momentum=0.1, affine=True, track_running_stats=True)\n",
              "      )\n",
              "    )\n",
              "    (1): Bottleneck(\n",
              "      (conv1): Conv2d(2048, 512, kernel_size=(1, 1), stride=(1, 1), bias=False)\n",
              "      (bn1): BatchNorm2d(512, eps=1e-05, momentum=0.1, affine=True, track_running_stats=True)\n",
              "      (conv2): Conv2d(512, 512, kernel_size=(3, 3), stride=(1, 1), padding=(1, 1), bias=False)\n",
              "      (bn2): BatchNorm2d(512, eps=1e-05, momentum=0.1, affine=True, track_running_stats=True)\n",
              "      (conv3): Conv2d(512, 2048, kernel_size=(1, 1), stride=(1, 1), bias=False)\n",
              "      (bn3): BatchNorm2d(2048, eps=1e-05, momentum=0.1, affine=True, track_running_stats=True)\n",
              "      (relu): ReLU(inplace=True)\n",
              "    )\n",
              "    (2): Bottleneck(\n",
              "      (conv1): Conv2d(2048, 512, kernel_size=(1, 1), stride=(1, 1), bias=False)\n",
              "      (bn1): BatchNorm2d(512, eps=1e-05, momentum=0.1, affine=True, track_running_stats=True)\n",
              "      (conv2): Conv2d(512, 512, kernel_size=(3, 3), stride=(1, 1), padding=(1, 1), bias=False)\n",
              "      (bn2): BatchNorm2d(512, eps=1e-05, momentum=0.1, affine=True, track_running_stats=True)\n",
              "      (conv3): Conv2d(512, 2048, kernel_size=(1, 1), stride=(1, 1), bias=False)\n",
              "      (bn3): BatchNorm2d(2048, eps=1e-05, momentum=0.1, affine=True, track_running_stats=True)\n",
              "      (relu): ReLU(inplace=True)\n",
              "    )\n",
              "  )\n",
              "  (avgpool): AdaptiveAvgPool2d(output_size=(1, 1))\n",
              "  (fc): Identity()\n",
              ")"
            ]
          },
          "metadata": {},
          "execution_count": 18
        }
      ]
    },
    {
      "cell_type": "code",
      "source": [
        "def extract_features(dataloader):\n",
        "    features = []\n",
        "    labels = []\n",
        "    with torch.no_grad():\n",
        "        for inputs, targets in dataloader:\n",
        "            inputs = inputs.cuda()\n",
        "            outputs = resnet50(inputs)\n",
        "            features.append(outputs.cpu())\n",
        "            labels.append(targets)\n",
        "    return torch.cat(features), torch.cat(labels)\n"
      ],
      "metadata": {
        "id": "GQ3Yhp4LqKad"
      },
      "execution_count": 19,
      "outputs": []
    },
    {
      "cell_type": "code",
      "source": [
        "# Run extraction for all sets\n",
        "X_train, y_train = extract_features(train_loader)\n",
        "X_val, y_val = extract_features(val_loader)\n",
        "X_test, y_test = extract_features(test_loader)\n",
        "\n",
        "# Optional: Save them if you want to reuse later\n",
        "torch.save((X_train, y_train), \"train_features.pt\")\n",
        "torch.save((X_val, y_val), \"val_features.pt\")\n",
        "torch.save((X_test, y_test), \"test_features.pt\")\n",
        "\n",
        "print(\"✅ All features extracted and saved.\")\n"
      ],
      "metadata": {
        "colab": {
          "base_uri": "https://localhost:8080/"
        },
        "id": "lczGmXDzqOSf",
        "outputId": "07938643-607b-4355-efa6-705805b30835"
      },
      "execution_count": 20,
      "outputs": [
        {
          "output_type": "stream",
          "name": "stdout",
          "text": [
            "✅ All features extracted and saved.\n"
          ]
        }
      ]
    },
    {
      "cell_type": "code",
      "source": [
        "from kan import KAN\n",
        "import torch.nn as nn\n",
        "\n",
        "# Assume feature vector is 2048 from ResNet-50\n",
        "input_dim = X_train.shape[1]  # typically 2048\n",
        "output_dim = len(torch.unique(y_train))  # number of classes, should be 2 (healthy/sick)\n",
        "\n",
        "model = KAN(width=[input_dim, 64, output_dim], grid=8).to('cuda')\n",
        "loss_fn = nn.CrossEntropyLoss()\n",
        "optimizer = torch.optim.Adam(model.parameters(), lr=0.001)\n"
      ],
      "metadata": {
        "colab": {
          "base_uri": "https://localhost:8080/"
        },
        "id": "iWdfnIMrrOI9",
        "outputId": "29617118-83e5-4cd5-a970-15125b50a2eb"
      },
      "execution_count": 23,
      "outputs": [
        {
          "output_type": "stream",
          "name": "stdout",
          "text": [
            "checkpoint directory created: ./model\n",
            "saving model version 0.0\n"
          ]
        }
      ]
    },
    {
      "cell_type": "code",
      "source": [
        "epochs = 20\n",
        "for epoch in range(epochs):\n",
        "    model.train()\n",
        "    optimizer.zero_grad()\n",
        "    outputs = model(X_train.cuda())\n",
        "    loss = loss_fn(outputs, y_train.cuda())\n",
        "    loss.backward()\n",
        "    optimizer.step()\n",
        "\n",
        "    # Evaluation\n",
        "    model.eval()\n",
        "    with torch.no_grad():\n",
        "        val_outputs = model(X_val.cuda())\n",
        "        val_preds = torch.argmax(val_outputs, dim=1)\n",
        "        val_acc = (val_preds == y_val.cuda()).float().mean().item()\n",
        "\n",
        "    print(f\"Epoch [{epoch+1}/{epochs}], Loss: {loss.item():.4f}, Val Acc: {val_acc:.4f}\")\n"
      ],
      "metadata": {
        "colab": {
          "base_uri": "https://localhost:8080/"
        },
        "id": "rqt5u3UrrS5N",
        "outputId": "1a012109-b239-44b6-c77e-873f6db59739"
      },
      "execution_count": 24,
      "outputs": [
        {
          "output_type": "stream",
          "name": "stdout",
          "text": [
            "Epoch [1/20], Loss: 0.6935, Val Acc: 0.5036\n",
            "Epoch [2/20], Loss: 0.6792, Val Acc: 0.7321\n",
            "Epoch [3/20], Loss: 0.6636, Val Acc: 0.7429\n",
            "Epoch [4/20], Loss: 0.6506, Val Acc: 0.7286\n",
            "Epoch [5/20], Loss: 0.6358, Val Acc: 0.7143\n",
            "Epoch [6/20], Loss: 0.6232, Val Acc: 0.7357\n",
            "Epoch [7/20], Loss: 0.6106, Val Acc: 0.7607\n",
            "Epoch [8/20], Loss: 0.5980, Val Acc: 0.7786\n",
            "Epoch [9/20], Loss: 0.5863, Val Acc: 0.7857\n",
            "Epoch [10/20], Loss: 0.5738, Val Acc: 0.7893\n",
            "Epoch [11/20], Loss: 0.5615, Val Acc: 0.7893\n",
            "Epoch [12/20], Loss: 0.5492, Val Acc: 0.7786\n",
            "Epoch [13/20], Loss: 0.5370, Val Acc: 0.7821\n",
            "Epoch [14/20], Loss: 0.5253, Val Acc: 0.7857\n",
            "Epoch [15/20], Loss: 0.5134, Val Acc: 0.7821\n",
            "Epoch [16/20], Loss: 0.5019, Val Acc: 0.7786\n",
            "Epoch [17/20], Loss: 0.4903, Val Acc: 0.7929\n",
            "Epoch [18/20], Loss: 0.4788, Val Acc: 0.7893\n",
            "Epoch [19/20], Loss: 0.4672, Val Acc: 0.7893\n",
            "Epoch [20/20], Loss: 0.4556, Val Acc: 0.8143\n"
          ]
        }
      ]
    },
    {
      "cell_type": "code",
      "source": [
        "# Assuming these are your ResNet+KAN model predictions on validation set\n",
        "# X_val is your validation input (features)\n",
        "# y_val is your validation ground truth (labels)\n",
        "\n",
        "with torch.no_grad():\n",
        "    predictions = model(X_val.to(device))\n",
        "    predicted_labels = torch.argmax(predictions, dim=1).cpu()\n",
        "\n",
        "# Print classification report\n",
        "print(\"📋 Classification Report (Validation Set):\")\n",
        "print(classification_report(y_val, predicted_labels, target_names=['Sick', 'Healthy']))\n"
      ],
      "metadata": {
        "colab": {
          "base_uri": "https://localhost:8080/"
        },
        "id": "9U1iD_6t6yXg",
        "outputId": "57fa126e-e000-4d85-9550-ab1ca2dd8b74"
      },
      "execution_count": 29,
      "outputs": [
        {
          "output_type": "stream",
          "name": "stdout",
          "text": [
            "📋 Classification Report (Validation Set):\n",
            "              precision    recall  f1-score   support\n",
            "\n",
            "        Sick       0.83      0.79      0.81       140\n",
            "     Healthy       0.80      0.84      0.82       140\n",
            "\n",
            "    accuracy                           0.81       280\n",
            "   macro avg       0.81      0.81      0.81       280\n",
            "weighted avg       0.81      0.81      0.81       280\n",
            "\n"
          ]
        }
      ]
    },
    {
      "cell_type": "code",
      "source": [
        "model.eval()\n",
        "with torch.no_grad():\n",
        "    test_outputs = model(X_test.cuda())\n",
        "    test_preds = torch.argmax(test_outputs, dim=1)\n",
        "\n",
        "from sklearn.metrics import classification_report\n",
        "print(classification_report(y_test.cpu(), test_preds.cpu(), target_names=[\"sick\", \"healthy\"]))\n"
      ],
      "metadata": {
        "colab": {
          "base_uri": "https://localhost:8080/"
        },
        "id": "txTEBDD2zWkf",
        "outputId": "b44a3bf1-aa73-4cdd-fe7c-248ec0d8412d"
      },
      "execution_count": 25,
      "outputs": [
        {
          "output_type": "stream",
          "name": "stdout",
          "text": [
            "              precision    recall  f1-score   support\n",
            "\n",
            "        sick       0.85      0.42      0.57        40\n",
            "     healthy       0.62      0.93      0.74        40\n",
            "\n",
            "    accuracy                           0.68        80\n",
            "   macro avg       0.73      0.68      0.65        80\n",
            "weighted avg       0.73      0.68      0.65        80\n",
            "\n"
          ]
        }
      ]
    },
    {
      "cell_type": "code",
      "source": [
        "from sklearn.metrics import classification_report, confusion_matrix\n",
        "import seaborn as sns\n",
        "import matplotlib.pyplot as plt\n",
        "import numpy as np\n",
        "\n",
        "model.eval()\n",
        "with torch.no_grad():\n",
        "    predictions = model(X_test.cuda())\n",
        "    predicted_labels = torch.argmax(predictions, dim=1).cpu()\n",
        "\n",
        "# 📊 Classification Report\n",
        "print(classification_report(y_test, predicted_labels, target_names=[\"Sick\", \"Healthy\"]))\n",
        "\n",
        "# 📉 Confusion Matrix\n",
        "cm = confusion_matrix(y_test, predicted_labels)\n",
        "sns.heatmap(cm, annot=True, fmt='d', cmap='Blues', xticklabels=[\"Sick\", \"Healthy\"], yticklabels=[\"Sick\", \"Healthy\"])\n",
        "plt.xlabel('Predicted')\n",
        "plt.ylabel('Actual')\n",
        "plt.title('Confusion Matrix')\n",
        "plt.show()\n"
      ],
      "metadata": {
        "colab": {
          "base_uri": "https://localhost:8080/",
          "height": 628
        },
        "id": "OHq6Lg5B6LMs",
        "outputId": "ebe51884-f33e-414d-82f3-f9c0cc2ed306"
      },
      "execution_count": 28,
      "outputs": [
        {
          "output_type": "stream",
          "name": "stdout",
          "text": [
            "              precision    recall  f1-score   support\n",
            "\n",
            "        Sick       0.85      0.42      0.57        40\n",
            "     Healthy       0.62      0.93      0.74        40\n",
            "\n",
            "    accuracy                           0.68        80\n",
            "   macro avg       0.73      0.68      0.65        80\n",
            "weighted avg       0.73      0.68      0.65        80\n",
            "\n"
          ]
        },
        {
          "output_type": "display_data",
          "data": {
            "text/plain": [
              "<Figure size 640x480 with 2 Axes>"
            ],
            "image/png": "[encoded data removed]"
          },
          "metadata": {}
        }
      ]
    }
  ]
}